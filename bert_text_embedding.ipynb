{
 "cells": [
  {
   "cell_type": "code",
   "execution_count": 1,
   "metadata": {},
   "outputs": [],
   "source": [
    "from transformers import (\n",
    "    BertTokenizer, \n",
    "    OpenAIGPTTokenizer,\n",
    "    GPT2Tokenizer,\n",
    "    CTRLTokenizer,\n",
    "    TransfoXLTokenizer,\n",
    "    XLNetTokenizer,\n",
    "    XLMTokenizer,\n",
    "    DistilBertTokenizer,\n",
    "    RobertaTokenizer,\n",
    "    XLMRobertaTokenizer)"
   ]
  },
  {
   "cell_type": "markdown",
   "metadata": {},
   "source": [
    "A Simple Example of BERT Sentence Embedding"
   ]
  },
  {
   "cell_type": "code",
   "execution_count": 2,
   "metadata": {},
   "outputs": [
    {
     "data": {
      "text/plain": [
       "[101, 2182, 2003, 2070, 3793, 2000, 4372, 16044, 102]"
      ]
     },
     "execution_count": 2,
     "metadata": {},
     "output_type": "execute_result"
    }
   ],
   "source": [
    "tokenizer = BertTokenizer.from_pretrained(\"bert-base-uncased\")\n",
    "tokenizer.encode(\"Here is some text to encode\", add_special_tokens=True)"
   ]
  },
  {
   "cell_type": "markdown",
   "metadata": {},
   "source": [
    "Try More Embedding Methods"
   ]
  },
  {
   "cell_type": "code",
   "execution_count": 3,
   "metadata": {},
   "outputs": [
    {
     "name": "stdout",
     "output_type": "stream",
     "text": [
      "Text embedding using  BertTokenizer\n",
      "[101, 2182, 2003, 2070, 3793, 2000, 4372, 16044, 102]\n",
      "9 \n",
      "\n"
     ]
    },
    {
     "name": "stderr",
     "output_type": "stream",
     "text": [
      "ftfy or spacy is not installed using BERT BasicTokenizer instead of SpaCy & ftfy.\n"
     ]
    },
    {
     "name": "stdout",
     "output_type": "stream",
     "text": [
      "Text embedding using  OpenAIGPTTokenizer\n",
      "[793, 544, 803, 4830, 485, 496, 5582]\n",
      "7 \n",
      "\n",
      "Text embedding using  DistilBertTokenizer\n",
      "[101, 3446, 1110, 1199, 3087, 1106, 4035, 13775, 102]\n",
      "9 \n",
      "\n",
      "Text embedding using  RobertaTokenizer\n",
      "[0, 1398, 16, 103, 2788, 7, 46855, 2]\n",
      "8 \n",
      "\n"
     ]
    }
   ],
   "source": [
    "MODELS = [(BertTokenizer,       'bert-base-uncased'),\n",
    "          (OpenAIGPTTokenizer,  'openai-gpt'),\n",
    "          #(GPT2Tokenizer,       'gpt2'),\n",
    "          #(CTRLTokenizer,       'ctrl'),\n",
    "          #(TransfoXLTokenizer,  'transfo-xl-wt103'),\n",
    "          #(XLNetTokenizer,      'xlnet-base-cased'),\n",
    "          #(XLMTokenizer,        'xlm-mlm-enfr-1024'),\n",
    "          (DistilBertTokenizer, 'distilbert-base-cased'),\n",
    "          (RobertaTokenizer,    'roberta-base'),\n",
    "          #(XLMRobertaTokenizer, 'xlm-roberta-base'),\n",
    "         ]\n",
    "\n",
    "# Let's encode some text in a sequence of hidden-states using each model:\n",
    "for tokenizer_class, pretrained_weights in MODELS:\n",
    "    # Load pretrained model/tokenizer\n",
    "    tokenizer = tokenizer_class.from_pretrained(pretrained_weights)\n",
    "    # Encode text\n",
    "    text_encode = tokenizer.encode(\"Here is some text to encode\", add_special_tokens=True)\n",
    "    print(\"Text embedding using \", tokenizer_class.__name__)\n",
    "    print(text_encode)\n",
    "    print(len(text_encode), \"\\n\")"
   ]
  }
 ],
 "metadata": {
  "kernelspec": {
   "display_name": "nlp_intro",
   "language": "python",
   "name": "nlp_intro"
  },
  "language_info": {
   "codemirror_mode": {
    "name": "ipython",
    "version": 3
   },
   "file_extension": ".py",
   "mimetype": "text/x-python",
   "name": "python",
   "nbconvert_exporter": "python",
   "pygments_lexer": "ipython3",
   "version": "3.6.9"
  }
 },
 "nbformat": 4,
 "nbformat_minor": 4
}
