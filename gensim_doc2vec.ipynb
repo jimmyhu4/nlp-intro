{
 "cells": [
  {
   "cell_type": "code",
   "execution_count": 1,
   "metadata": {
    "collapsed": false
   },
   "outputs": [],
   "source": [
    "from gensim.models.doc2vec import Doc2Vec, TaggedDocument"
   ]
  },
  {
   "cell_type": "code",
   "execution_count": 2,
   "metadata": {
    "collapsed": true
   },
   "outputs": [],
   "source": [
    "sentences = [['this', 'is', 'the', 'first', 'sentence', 'for', 'word2vec'],\n",
    "             ['this', 'is', 'the', 'second', 'sentence'],\n",
    "             ['yet', 'another', 'sentence'],\n",
    "             ['one', 'more', 'sentence'],\n",
    "             ['and', 'the', 'final', 'sentence']]"
   ]
  },
  {
   "cell_type": "code",
   "execution_count": 3,
   "metadata": {
    "collapsed": false
   },
   "outputs": [
    {
     "data": {
      "text/plain": [
       "[TaggedDocument(words=['this', 'is', 'the', 'first', 'sentence', 'for', 'word2vec'], tags=['0']),\n",
       " TaggedDocument(words=['this', 'is', 'the', 'second', 'sentence'], tags=['1']),\n",
       " TaggedDocument(words=['yet', 'another', 'sentence'], tags=['2']),\n",
       " TaggedDocument(words=['one', 'more', 'sentence'], tags=['3']),\n",
       " TaggedDocument(words=['and', 'the', 'final', 'sentence'], tags=['4'])]"
      ]
     },
     "execution_count": 3,
     "metadata": {},
     "output_type": "execute_result"
    }
   ],
   "source": [
    "tagged_data = [TaggedDocument(words=sentences[i], tags=[str(i)]) for i, _d in enumerate(sentences)]\n",
    "tagged_data"
   ]
  },
  {
   "cell_type": "code",
   "execution_count": 4,
   "metadata": {
    "collapsed": false
   },
   "outputs": [
    {
     "name": "stderr",
     "output_type": "stream",
     "text": [
      "C:\\Users\\BellaChenhui\\AppData\\Local\\Programs\\Python\\Python37\\lib\\site-packages\\gensim\\models\\doc2vec.py:574: UserWarning: The parameter `size` is deprecated, will be removed in 4.0.0, use `vector_size` instead.\n",
      "  warnings.warn(\"The parameter `size` is deprecated, will be removed in 4.0.0, use `vector_size` instead.\")\n",
      "C:\\Users\\BellaChenhui\\AppData\\Roaming\\Python\\Python37\\site-packages\\ipykernel_launcher.py:17: DeprecationWarning: Call to deprecated `iter` (Attribute will be removed in 4.0.0, use self.epochs instead).\n"
     ]
    },
    {
     "name": "stdout",
     "output_type": "stream",
     "text": [
      "iteration 0\n",
      "iteration 1\n",
      "iteration 2\n",
      "iteration 3\n",
      "iteration 4\n",
      "iteration 5\n",
      "iteration 6\n",
      "iteration 7\n",
      "iteration 8\n",
      "iteration 9\n",
      "iteration 10\n",
      "iteration 11\n",
      "iteration 12\n",
      "iteration 13\n",
      "iteration 14\n",
      "iteration 15\n",
      "iteration 16\n",
      "iteration 17\n",
      "iteration 18\n",
      "iteration 19\n",
      "iteration 20\n",
      "iteration 21\n",
      "iteration 22\n",
      "iteration 23\n",
      "iteration 24\n",
      "iteration 25\n",
      "iteration 26\n",
      "iteration 27\n",
      "iteration 28\n",
      "iteration 29\n",
      "iteration 30\n",
      "iteration 31\n",
      "iteration 32\n",
      "iteration 33\n",
      "iteration 34\n",
      "iteration 35\n",
      "iteration 36\n",
      "iteration 37\n",
      "iteration 38\n",
      "iteration 39\n",
      "iteration 40\n",
      "iteration 41\n",
      "iteration 42\n",
      "iteration 43\n",
      "iteration 44\n",
      "iteration 45\n",
      "iteration 46\n",
      "iteration 47\n",
      "iteration 48\n",
      "iteration 49\n"
     ]
    }
   ],
   "source": [
    "max_epochs = 50\n",
    "vec_size = 20 # Please change this to a bigger number e.g. 100, 200 for DementiaBank data\n",
    "alpha = 0.025\n",
    "\n",
    "model = Doc2Vec(size=vec_size,\n",
    "                alpha=alpha, \n",
    "                min_alpha=0.00025,\n",
    "                min_count=1,\n",
    "                dm =1)\n",
    "  \n",
    "model.build_vocab(tagged_data)\n",
    "\n",
    "for epoch in range(max_epochs):\n",
    "    print('iteration {0}'.format(epoch))\n",
    "    model.train(tagged_data,\n",
    "                total_examples=model.corpus_count,\n",
    "                epochs=model.iter)\n",
    "    # decrease the learning rate\n",
    "    model.alpha -= 0.0002\n",
    "    # fix the learning rate, no decay\n",
    "    model.min_alpha = model.alpha\n",
    "\n",
    "#model.save(\"d2v.model\")\n",
    "#print(\"Model Saved\")"
   ]
  },
  {
   "cell_type": "code",
   "execution_count": 5,
   "metadata": {
    "collapsed": false
   },
   "outputs": [
    {
     "name": "stdout",
     "output_type": "stream",
     "text": [
      "[ 0.00760923 -0.03076402  0.07002074 -0.09107259 -0.00867059  0.13434009\n",
      " -0.01565156  0.11295633  0.11035047 -0.14624207  0.03890356  0.04922032\n",
      "  0.26791367 -0.05265868 -0.02775489  0.06005032  0.05193143 -0.06918741\n",
      "  0.0460471  -0.00659959]\n",
      "[ 2.38063261e-02 -4.15209383e-02  7.48296361e-03 -3.72861400e-02\n",
      "  2.76292451e-02  4.56104614e-02  2.63008475e-02  5.78073263e-02\n",
      "  4.68417741e-02 -6.49416819e-02  2.07267981e-02 -1.39320139e-02\n",
      "  1.23905085e-01 -5.63023938e-03 -2.67181285e-02  3.76350072e-05\n",
      "  3.96299921e-02 -2.91684605e-02  4.58216742e-02  1.80658009e-02]\n",
      "[ 0.00574251 -0.03021229  0.02524335 -0.04517609  0.00507363  0.04771728\n",
      "  0.02463012  0.06280046  0.03212084 -0.01448778  0.01555557 -0.01632643\n",
      "  0.12490543 -0.01289606  0.00463432  0.02233855  0.00623224 -0.00777542\n",
      "  0.01517609 -0.00290424]\n"
     ]
    }
   ],
   "source": [
    "# embedding of the first sentence\n",
    "print(model.docvecs[0])\n",
    "\n",
    "# embedding of the second sentence\n",
    "print(model.docvecs[1])\n",
    "\n",
    "# embedding of the third sentence\n",
    "print(model.docvecs[2])"
   ]
  }
 ],
 "metadata": {
  "file_extension": ".py",
  "kernelspec": {
   "display_name": "Python 3.7.5 64-bit",
   "language": "python",
   "name": "python37564bit586c4fbfaa78491189fcaa770ac93e25"
  },
  "language_info": {
   "codemirror_mode": {
    "name": "ipython",
    "version": 3
   },
   "file_extension": ".py",
   "mimetype": "text/x-python",
   "name": "python",
   "nbconvert_exporter": "python",
   "pygments_lexer": "ipython3",
   "version": "3.7.5"
  },
  "mimetype": "text/x-python",
  "name": "python",
  "npconvert_exporter": "python",
  "pygments_lexer": "ipython3",
  "version": 3
 },
 "nbformat": 4,
 "nbformat_minor": 2
}
